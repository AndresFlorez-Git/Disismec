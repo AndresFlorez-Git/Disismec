{
 "cells": [
  {
   "cell_type": "code",
   "execution_count": null,
   "metadata": {},
   "outputs": [],
   "source": [
    "import numpy as np\n",
    "import matplotlib.pyplot as plt\n",
    "\n",
    "########## Geometría ##################\n",
    "\n",
    "######## Viga 1 #########\n",
    "Largo_viga1 = 200e-3 # m\n",
    "Ancho_viga1 = 10e-3 # m\n",
    "Espesor_viga1 = 0.5e-3 #m\n",
    "Area_transversal_viga1 = Ancho_viga1*Espesor_viga1 #m^2\n",
    "Momento_inercia_viga1 = (Largo_viga1*Ancho_viga1**3)/12 \n",
    "######## Viga 2 #########\n",
    "Largo_viga2 = 190e-3 # m\n",
    "Ancho_viga2 = 10e-3 # m\n",
    "Espesor_viga2 = 0.5e-3 #m\n",
    "Area_transversal_viga2 = Ancho_viga2*Espesor_viga2 #m^2\n",
    "Momento_inercia_viga2 = (Largo_viga2*Ancho_viga2**3)/12\n",
    "######## Viga 3 #########\n",
    "Largo_viga3 = 180e-3 # m\n",
    "Ancho_viga3 = 10e-3 # m\n",
    "Espesor_viga3 = 0.5e-3 #m\n",
    "Area_transversal_viga3 = Ancho_viga3*Espesor_viga3 #m^2\n",
    "Momento_inercia_viga2 = (Largo_viga2*Ancho_viga2**3)/12\n",
    "\n"
   ]
  }
 ],
 "metadata": {
  "kernelspec": {
   "display_name": "Python 3",
   "language": "python",
   "name": "python3"
  },
  "language_info": {
   "codemirror_mode": {
    "name": "ipython",
    "version": 3
   },
   "file_extension": ".py",
   "mimetype": "text/x-python",
   "name": "python",
   "nbconvert_exporter": "python",
   "pygments_lexer": "ipython3",
   "version": "3.7.6"
  }
 },
 "nbformat": 4,
 "nbformat_minor": 4
}
